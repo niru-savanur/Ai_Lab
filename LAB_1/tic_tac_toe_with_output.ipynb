{
  "nbformat": 4,
  "nbformat_minor": 0,
  "metadata": {
    "colab": {
      "name": "tic-tac-toe.ipynb",
      "provenance": []
    },
    "kernelspec": {
      "name": "python3",
      "display_name": "Python 3"
    },
    "language_info": {
      "name": "python"
    }
  },
  "cells": [
    {
      "cell_type": "code",
      "metadata": {
        "id": "X_5jDEdl_njt"
      },
      "source": [
        "board = [' ' for x in range(10)]"
      ],
      "execution_count": 12,
      "outputs": []
    },
    {
      "cell_type": "code",
      "metadata": {
        "id": "GWHIVvIX_lKN"
      },
      "source": [
        "def printBoard(board):\n",
        "    print('   |   |')\n",
        "    print(' ' + board[1] + ' | ' + board[2] + ' | ' + board[3])\n",
        "    print('   |   |')\n",
        "    print('-----------')\n",
        "    print('   |   |')\n",
        "    print(' ' + board[4] + ' | ' + board[5] + ' | ' + board[6])\n",
        "    print('   |   |')\n",
        "    print('-----------')\n",
        "    print('   |   |')\n",
        "    print(' ' + board[7] + ' | ' + board[8] + ' | ' + board[9])\n",
        "    print('   |   |')"
      ],
      "execution_count": 2,
      "outputs": []
    },
    {
      "cell_type": "code",
      "metadata": {
        "id": "4VkFSCmSA4bz"
      },
      "source": [
        "def isBoardFull(board):\n",
        "    if board.count(' ') > 1:\n",
        "        return False\n",
        "    else:\n",
        "        return True"
      ],
      "execution_count": 3,
      "outputs": []
    },
    {
      "cell_type": "code",
      "metadata": {
        "id": "exIyXZd4A-c7"
      },
      "source": [
        "def insertLetter(letter, pos):\n",
        "    board[pos] = letter"
      ],
      "execution_count": 4,
      "outputs": []
    },
    {
      "cell_type": "code",
      "metadata": {
        "id": "p1OhBMcXB8qx"
      },
      "source": [
        "def spaceIsFree(pos):\n",
        "    return board[pos] == ' '"
      ],
      "execution_count": 5,
      "outputs": []
    },
    {
      "cell_type": "code",
      "metadata": {
        "id": "iavR-yZpB_4x"
      },
      "source": [
        "def isWinner(bo, le):\n",
        "    return (bo[7] == le and bo[8] == le and bo[9] == le) or (bo[4] == le and bo[5] == le and bo[6] == le) or (\n",
        "                bo[1] == le and bo[2] == le and bo[3] == le) or (bo[1] == le and bo[4] == le and bo[7] == le) or (\n",
        "                       bo[2] == le and bo[5] == le and bo[8] == le) or (\n",
        "                       bo[3] == le and bo[6] == le and bo[9] == le) or (\n",
        "                       bo[1] == le and bo[5] == le and bo[9] == le) or (bo[3] == le and bo[5] == le and bo[7] == le)"
      ],
      "execution_count": 6,
      "outputs": []
    },
    {
      "cell_type": "code",
      "metadata": {
        "id": "6SMFaZt7ELZ_"
      },
      "source": [
        "def playerMove():\n",
        "    run = True\n",
        "    while run:\n",
        "        move = input('Please select a position to place an \\'X\\' (1-9): ')\n",
        "        try:\n",
        "            move = int(move)\n",
        "            if move > 0 and move < 10:\n",
        "                if spaceIsFree(move):\n",
        "                    run = False\n",
        "                    insertLetter('X', move)\n",
        "                else:\n",
        "                    print('Sorry, this space is occupied!')\n",
        "            else:\n",
        "                print('Please type a number within the range!')\n",
        "        except:\n",
        "            print('Please type a number!')"
      ],
      "execution_count": 7,
      "outputs": []
    },
    {
      "cell_type": "code",
      "metadata": {
        "id": "Rhkw7EQAF3w8"
      },
      "source": [
        "def selectRandom(li):\n",
        "    import random\n",
        "    ln = len(li)\n",
        "    r = random.randrange(0, ln)\n",
        "    return li[r]"
      ],
      "execution_count": 8,
      "outputs": []
    },
    {
      "cell_type": "code",
      "metadata": {
        "id": "s47vrQ0fGFCC"
      },
      "source": [
        "def compMove():\n",
        "    possibleMoves = [x for x, letter in enumerate(board) if letter == ' ' and x != 0]\n",
        "    move = 0\n",
        "\n",
        "    for let in ['O', 'X']:\n",
        "        for i in possibleMoves:\n",
        "            boardCopy = board[:]\n",
        "            boardCopy[i] = let\n",
        "            if isWinner(boardCopy, let):\n",
        "                move = i\n",
        "                return move\n",
        "\n",
        "    cornersOpen = []\n",
        "    for i in possibleMoves:\n",
        "        if i in [1, 3, 7, 9]:\n",
        "            cornersOpen.append(i)\n",
        "\n",
        "    if len(cornersOpen) > 0:\n",
        "        move = selectRandom(cornersOpen)\n",
        "        return move\n",
        "\n",
        "    if 5 in possibleMoves:\n",
        "        move = 5\n",
        "        return move\n",
        "\n",
        "    edgesOpen = []\n",
        "    for i in possibleMoves:\n",
        "        if i in [2, 4, 6, 8]:\n",
        "            edgesOpen.append(i)\n",
        "\n",
        "    if len(edgesOpen) > 0:\n",
        "        move = selectRandom(edgesOpen)\n",
        "\n",
        "    return move"
      ],
      "execution_count": 9,
      "outputs": []
    },
    {
      "cell_type": "code",
      "metadata": {
        "id": "9KMuW-p-GN1x"
      },
      "source": [
        "def start():\n",
        "    print('Welcome to Tic Tac Toe!')\n",
        "    printBoard(board)\n",
        "\n",
        "    while not (isBoardFull(board)):\n",
        "        if not (isWinner(board, 'O')):\n",
        "            playerMove()\n",
        "            printBoard(board)\n",
        "        else:\n",
        "            print('Sorry, O\\'s won this time!')\n",
        "            break\n",
        "\n",
        "        if not (isWinner(board, 'X')):\n",
        "            move = compMove()\n",
        "            if move == 0:\n",
        "                print('Tie Game!')\n",
        "            else:\n",
        "                insertLetter('O', move)\n",
        "                print('Computer placed an \\'O\\' in position', move, ':')\n",
        "                printBoard(board)\n",
        "        else:\n",
        "            print('X\\'s won this time! Good Job!')\n",
        "            break\n",
        "\n",
        "    if isBoardFull(board):\n",
        "        print('Tie Game!')"
      ],
      "execution_count": 10,
      "outputs": []
    },
    {
      "cell_type": "code",
      "metadata": {
        "colab": {
          "base_uri": "https://localhost:8080/"
        },
        "id": "0XPy5uUlIFEe",
        "outputId": "c3399ea2-c142-41a0-dfa5-7aa3f6d566e6"
      },
      "source": [
        "while True:\n",
        "    answer = input('Do you want to play? (Y/N)')\n",
        "    if answer.lower() == 'y' or answer.lower == 'yes':\n",
        "        board = [' ' for x in range(10)]\n",
        "        print('-----------------------------------')\n",
        "        start()\n",
        "    else:\n",
        "        break"
      ],
      "execution_count": 14,
      "outputs": [
        {
          "name": "stdout",
          "output_type": "stream",
          "text": [
            "Do you want to play? (Y/N)Y\n",
            "-----------------------------------\n",
            "Welcome to Tic Tac Toe!\n",
            "   |   |\n",
            "   |   |  \n",
            "   |   |\n",
            "-----------\n",
            "   |   |\n",
            "   |   |  \n",
            "   |   |\n",
            "-----------\n",
            "   |   |\n",
            "   |   |  \n",
            "   |   |\n",
            "Please select a position to place an 'X' (1-9): 1\n",
            "   |   |\n",
            " X |   |  \n",
            "   |   |\n",
            "-----------\n",
            "   |   |\n",
            "   |   |  \n",
            "   |   |\n",
            "-----------\n",
            "   |   |\n",
            "   |   |  \n",
            "   |   |\n",
            "Computer placed an 'O' in position 7 :\n",
            "   |   |\n",
            " X |   |  \n",
            "   |   |\n",
            "-----------\n",
            "   |   |\n",
            "   |   |  \n",
            "   |   |\n",
            "-----------\n",
            "   |   |\n",
            " O |   |  \n",
            "   |   |\n",
            "Please select a position to place an 'X' (1-9): 9\n",
            "   |   |\n",
            " X |   |  \n",
            "   |   |\n",
            "-----------\n",
            "   |   |\n",
            "   |   |  \n",
            "   |   |\n",
            "-----------\n",
            "   |   |\n",
            " O |   | X\n",
            "   |   |\n",
            "Computer placed an 'O' in position 5 :\n",
            "   |   |\n",
            " X |   |  \n",
            "   |   |\n",
            "-----------\n",
            "   |   |\n",
            "   | O |  \n",
            "   |   |\n",
            "-----------\n",
            "   |   |\n",
            " O |   | X\n",
            "   |   |\n",
            "Please select a position to place an 'X' (1-9): 4\n",
            "   |   |\n",
            " X |   |  \n",
            "   |   |\n",
            "-----------\n",
            "   |   |\n",
            " X | O |  \n",
            "   |   |\n",
            "-----------\n",
            "   |   |\n",
            " O |   | X\n",
            "   |   |\n",
            "Computer placed an 'O' in position 3 :\n",
            "   |   |\n",
            " X |   | O\n",
            "   |   |\n",
            "-----------\n",
            "   |   |\n",
            " X | O |  \n",
            "   |   |\n",
            "-----------\n",
            "   |   |\n",
            " O |   | X\n",
            "   |   |\n",
            "Sorry, O's won this time!\n",
            "Do you want to play? (Y/N)N\n"
          ]
        }
      ]
    }
  ]
}