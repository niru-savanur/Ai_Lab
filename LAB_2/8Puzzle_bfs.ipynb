{
  "nbformat": 4,
  "nbformat_minor": 0,
  "metadata": {
    "colab": {
      "name": "8Puzzle_bfs.ipynb",
      "provenance": []
    },
    "kernelspec": {
      "name": "python3",
      "display_name": "Python 3"
    },
    "language_info": {
      "name": "python"
    }
  },
  "cells": [
    {
      "cell_type": "code",
      "execution_count": 1,
      "metadata": {
        "id": "IhDzJQOY-PXp"
      },
      "outputs": [],
      "source": [
        "def bfs(src,target):\n",
        "    queue = []\n",
        "    queue.append(src)\n",
        "    \n",
        "    exp = []\n",
        "    \n",
        "    while len(queue) > 0:\n",
        "        source = queue.pop(0)\n",
        "        exp.append(source)\n",
        "        \n",
        "        print(source)\n",
        "        \n",
        "        if source==target:\n",
        "            print(\"success\")\n",
        "            return\n",
        "        \n",
        "        poss_moves_to_do = []\n",
        "        poss_moves_to_do = possible_moves(source,exp)\n",
        "        \n",
        "        for move in poss_moves_to_do:\n",
        "            \n",
        "            if move not in exp and move not in queue:\n",
        "                queue.append(move)"
      ]
    },
    {
      "cell_type": "code",
      "source": [
        "def possible_moves(state,visited_states): \n",
        "    #index of empty spot\n",
        "    b = state.index(-1)\n",
        "    \n",
        "    #directions array\n",
        "    d = []\n",
        "    #Add all the possible directions\n",
        "    \n",
        "    if b not in [0,1,2]: \n",
        "        d.append('u')\n",
        "    if b not in [6,7,8]: \n",
        "        d.append('d')\n",
        "    if b not in [0,3,6]: \n",
        "        d.append('l')\n",
        "    if b not in [2,5,8]: \n",
        "        d.append('r')\n",
        "        \n",
        "\n",
        "    # If direction is possible then add state to move\n",
        "    pos_moves_it_can = []\n",
        "    \n",
        "    # for all possible directions find the state if that move is played\n",
        "    ### Jump to gen function to generate all possible moves in the given directions\n",
        "    \n",
        "    for i in d:\n",
        "        pos_moves_it_can.append(gen(state,i,b))\n",
        "        \n",
        "    return [move_it_can for move_it_can in pos_moves_it_can if move_it_can not in visited_states]"
      ],
      "metadata": {
        "id": "w2-vryCO-gRt"
      },
      "execution_count": 2,
      "outputs": []
    },
    {
      "cell_type": "code",
      "source": [
        "def gen(state, m, b):\n",
        "    temp = state.copy()                              \n",
        "    \n",
        "    if m=='d':\n",
        "        temp[b+3],temp[b] = temp[b],temp[b+3]\n",
        "    \n",
        "    if m=='u':\n",
        "        temp[b-3],temp[b] = temp[b],temp[b-3]\n",
        "    \n",
        "    if m=='l':\n",
        "        temp[b-1],temp[b] = temp[b],temp[b-1]\n",
        "    \n",
        "    if m=='r':\n",
        "        temp[b+1],temp[b] = temp[b],temp[b+1]\n",
        "        \n",
        "    \n",
        "    # return new state with tested move to later check if \"src == target\"\n",
        "    return temp"
      ],
      "metadata": {
        "id": "N5P5P7Go-lCr"
      },
      "execution_count": 3,
      "outputs": []
    },
    {
      "cell_type": "code",
      "source": [
        "src = [1,2,3,-1,4,5,6,7,8]\n",
        "target = [1,2,3,4,5,-1,6,7,8]         \n",
        "bfs(src, target)"
      ],
      "metadata": {
        "colab": {
          "base_uri": "https://localhost:8080/"
        },
        "id": "ynrDAU8s-oj7",
        "outputId": "7cab1de1-39d3-42af-dbc7-d403261522e4"
      },
      "execution_count": 4,
      "outputs": [
        {
          "output_type": "stream",
          "name": "stdout",
          "text": [
            "[1, 2, 3, -1, 4, 5, 6, 7, 8]\n",
            "[-1, 2, 3, 1, 4, 5, 6, 7, 8]\n",
            "[1, 2, 3, 6, 4, 5, -1, 7, 8]\n",
            "[1, 2, 3, 4, -1, 5, 6, 7, 8]\n",
            "[2, -1, 3, 1, 4, 5, 6, 7, 8]\n",
            "[1, 2, 3, 6, 4, 5, 7, -1, 8]\n",
            "[1, -1, 3, 4, 2, 5, 6, 7, 8]\n",
            "[1, 2, 3, 4, 7, 5, 6, -1, 8]\n",
            "[1, 2, 3, 4, 5, -1, 6, 7, 8]\n",
            "success\n"
          ]
        }
      ]
    },
    {
      "cell_type": "code",
      "source": [
        "src = [2,-1,3,1,8,4,7,6,5] \n",
        "target=[1,2,3,8,-1,4,7,6,5]\n",
        "bfs(src, target)"
      ],
      "metadata": {
        "colab": {
          "base_uri": "https://localhost:8080/"
        },
        "id": "RB78_OAL-t_r",
        "outputId": "0ee7a9ca-96b7-4619-c1ed-aa73ad70db7a"
      },
      "execution_count": 5,
      "outputs": [
        {
          "output_type": "stream",
          "name": "stdout",
          "text": [
            "[2, -1, 3, 1, 8, 4, 7, 6, 5]\n",
            "[2, 8, 3, 1, -1, 4, 7, 6, 5]\n",
            "[-1, 2, 3, 1, 8, 4, 7, 6, 5]\n",
            "[2, 3, -1, 1, 8, 4, 7, 6, 5]\n",
            "[2, 8, 3, 1, 6, 4, 7, -1, 5]\n",
            "[2, 8, 3, -1, 1, 4, 7, 6, 5]\n",
            "[2, 8, 3, 1, 4, -1, 7, 6, 5]\n",
            "[1, 2, 3, -1, 8, 4, 7, 6, 5]\n",
            "[2, 3, 4, 1, 8, -1, 7, 6, 5]\n",
            "[2, 8, 3, 1, 6, 4, -1, 7, 5]\n",
            "[2, 8, 3, 1, 6, 4, 7, 5, -1]\n",
            "[-1, 8, 3, 2, 1, 4, 7, 6, 5]\n",
            "[2, 8, 3, 7, 1, 4, -1, 6, 5]\n",
            "[2, 8, -1, 1, 4, 3, 7, 6, 5]\n",
            "[2, 8, 3, 1, 4, 5, 7, 6, -1]\n",
            "[1, 2, 3, 7, 8, 4, -1, 6, 5]\n",
            "[1, 2, 3, 8, -1, 4, 7, 6, 5]\n",
            "success\n"
          ]
        }
      ]
    }
  ]
}